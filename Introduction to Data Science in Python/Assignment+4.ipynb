{
 "cells": [
  {
   "cell_type": "markdown",
   "metadata": {},
   "source": [
    "---\n",
    "\n",
    "_You are currently looking at **version 1.1** of this notebook. To download notebooks and datafiles, as well as get help on Jupyter notebooks in the Coursera platform, visit the [Jupyter Notebook FAQ](https://www.coursera.org/learn/python-data-analysis/resources/0dhYG) course resource._\n",
    "\n",
    "---"
   ]
  },
  {
   "cell_type": "code",
   "execution_count": 1,
   "metadata": {
    "collapsed": true
   },
   "outputs": [],
   "source": [
    "import pandas as pd\n",
    "import numpy as np\n",
    "from scipy.stats import ttest_ind"
   ]
  },
  {
   "cell_type": "markdown",
   "metadata": {},
   "source": [
    "# Assignment 4 - Hypothesis Testing\n",
    "This assignment requires more individual learning than previous assignments - you are encouraged to check out the [pandas documentation](http://pandas.pydata.org/pandas-docs/stable/) to find functions or methods you might not have used yet, or ask questions on [Stack Overflow](http://stackoverflow.com/) and tag them as pandas and python related. And of course, the discussion forums are open for interaction with your peers and the course staff.\n",
    "\n",
    "Definitions:\n",
    "* A _quarter_ is a specific three month period, Q1 is January through March, Q2 is April through June, Q3 is July through September, Q4 is October through December.\n",
    "* A _recession_ is defined as starting with two consecutive quarters of GDP decline, and ending with two consecutive quarters of GDP growth.\n",
    "* A _recession bottom_ is the quarter within a recession which had the lowest GDP.\n",
    "* A _university town_ is a city which has a high percentage of university students compared to the total population of the city.\n",
    "\n",
    "**Hypothesis**: University towns have their mean housing prices less effected by recessions. Run a t-test to compare the ratio of the mean price of houses in university towns the quarter before the recession starts compared to the recession bottom. (`price_ratio=quarter_before_recession/recession_bottom`)\n",
    "\n",
    "The following data files are available for this assignment:\n",
    "* From the [Zillow research data site](http://www.zillow.com/research/data/) there is housing data for the United States. In particular the datafile for [all homes at a city level](http://files.zillowstatic.com/research/public/City/City_Zhvi_AllHomes.csv), ```City_Zhvi_AllHomes.csv```, has median home sale prices at a fine grained level.\n",
    "* From the Wikipedia page on college towns is a list of [university towns in the United States](https://en.wikipedia.org/wiki/List_of_college_towns#College_towns_in_the_United_States) which has been copy and pasted into the file ```university_towns.txt```.\n",
    "* From Bureau of Economic Analysis, US Department of Commerce, the [GDP over time](http://www.bea.gov/national/index.htm#gdp) of the United States in current dollars (use the chained value in 2009 dollars), in quarterly intervals, in the file ```gdplev.xls```. For this assignment, only look at GDP data from the first quarter of 2000 onward.\n",
    "\n",
    "Each function in this assignment below is worth 10%, with the exception of ```run_ttest()```, which is worth 50%."
   ]
  },
  {
   "cell_type": "code",
   "execution_count": 2,
   "metadata": {
    "collapsed": true
   },
   "outputs": [],
   "source": [
    "# Use this dictionary to map state names to two letter acronyms\n",
    "states = {'OH': 'Ohio', 'KY': 'Kentucky', 'AS': 'American Samoa', 'NV': 'Nevada', 'WY': 'Wyoming', 'NA': 'National', 'AL': 'Alabama', 'MD': 'Maryland', 'AK': 'Alaska', 'UT': 'Utah', 'OR': 'Oregon', 'MT': 'Montana', 'IL': 'Illinois', 'TN': 'Tennessee', 'DC': 'District of Columbia', 'VT': 'Vermont', 'ID': 'Idaho', 'AR': 'Arkansas', 'ME': 'Maine', 'WA': 'Washington', 'HI': 'Hawaii', 'WI': 'Wisconsin', 'MI': 'Michigan', 'IN': 'Indiana', 'NJ': 'New Jersey', 'AZ': 'Arizona', 'GU': 'Guam', 'MS': 'Mississippi', 'PR': 'Puerto Rico', 'NC': 'North Carolina', 'TX': 'Texas', 'SD': 'South Dakota', 'MP': 'Northern Mariana Islands', 'IA': 'Iowa', 'MO': 'Missouri', 'CT': 'Connecticut', 'WV': 'West Virginia', 'SC': 'South Carolina', 'LA': 'Louisiana', 'KS': 'Kansas', 'NY': 'New York', 'NE': 'Nebraska', 'OK': 'Oklahoma', 'FL': 'Florida', 'CA': 'California', 'CO': 'Colorado', 'PA': 'Pennsylvania', 'DE': 'Delaware', 'NM': 'New Mexico', 'RI': 'Rhode Island', 'MN': 'Minnesota', 'VI': 'Virgin Islands', 'NH': 'New Hampshire', 'MA': 'Massachusetts', 'GA': 'Georgia', 'ND': 'North Dakota', 'VA': 'Virginia'}"
   ]
  },
  {
   "cell_type": "code",
   "execution_count": 3,
   "metadata": {
    "collapsed": true,
    "scrolled": true
   },
   "outputs": [],
   "source": [
    "def get_list_of_university_towns():\n",
    "    '''Returns a DataFrame of towns and the states they are in from the \n",
    "    university_towns.txt list. The format of the DataFrame should be:\n",
    "    DataFrame( [ [\"Michigan\", \"Ann Arbor\"], [\"Michigan\", \"Yipsilanti\"] ], \n",
    "    columns=[\"State\", \"RegionName\"]  )\n",
    "    \n",
    "    The following cleaning needs to be done:\n",
    "\n",
    "    1. For \"State\", removing characters from \"[\" to the end.\n",
    "    2. For \"RegionName\", when applicable, removing every character from \" (\" to the end.\n",
    "    3. Depending on how you read the data, you may need to remove newline character '\\n'. '''\n",
    "    with open(\"university_towns.txt\") as TOWNS_FILE:\n",
    "        data = TOWNS_FILE.read()\n",
    "        \n",
    "    regions = []\n",
    "    states = []\n",
    "    \n",
    "    for line in data.split('\\n'):\n",
    "        clean_line = line.strip()\n",
    "        if clean_line == \"\":\n",
    "            continue\n",
    "\n",
    "        if clean_line.endswith('[edit]'):\n",
    "            current_state = clean_line[:clean_line.index('[')].strip()\n",
    "        else:\n",
    "            # If a university is listed it will be in parens. Capture just the city part\n",
    "            try:\n",
    "                region_name = clean_line[:clean_line.index('(')].strip()\n",
    "            except:\n",
    "                region_name = clean_line.strip()\n",
    "                \n",
    "            regions.append(region_name)\n",
    "            states.append(current_state)\n",
    "        \n",
    "    \n",
    "    return pd.DataFrame({'State': states, 'RegionName': regions})"
   ]
  },
  {
   "cell_type": "code",
   "execution_count": 4,
   "metadata": {
    "collapsed": true
   },
   "outputs": [],
   "source": [
    "def load_gdp_data():\n",
    "    '''Load, clean up and add metadata to the gdp data'''\n",
    "    df = pd.read_excel(\"gdplev.xls\")\n",
    "    df = df[[\"Unnamed: 4\", \"Unnamed: 6\"]]\n",
    "    df.columns = [\"Year and Quarter\", \"GDP in billions of chained 2009 dollars\"]\n",
    "    \n",
    "    # There's some garbage headers that we want to get rid of\n",
    "    df.drop(range(7), inplace=True)\n",
    "    \n",
    "    # This is a convenient way to return just 2000q1 and after\n",
    "    df = df[df[\"Year and Quarter\"].str.startswith('2')]\n",
    "    df = df.set_index(\"Year and Quarter\")\n",
    "    \n",
    "    # Set up negative and \"sequential\" (ie, double positive/negative) quarters\n",
    "    df['negQtr'] = df[\"GDP in billions of chained 2009 dollars\"].diff() < 0 \n",
    "    df['seqQtr'] = df['negQtr'] == df['negQtr'].shift(-1)\n",
    "    \n",
    "    return df\n",
    "\n",
    "gdp_data = load_gdp_data()"
   ]
  },
  {
   "cell_type": "code",
   "execution_count": 5,
   "metadata": {
    "collapsed": true
   },
   "outputs": [],
   "source": [
    "def get_recession_start():\n",
    "    '''Returns the year and quarter of the recession start time as a \n",
    "    string value in a format such as 2005q3'''\n",
    "    return gdp_data[gdp_data['negQtr'] & gdp_data['seqQtr']].iloc[0].name"
   ]
  },
  {
   "cell_type": "code",
   "execution_count": 6,
   "metadata": {
    "collapsed": true
   },
   "outputs": [],
   "source": [
    "def get_recession_end():\n",
    "    '''Returns the year and quarter of the recession end time as a \n",
    "    string value in a format such as 2005q3'''\n",
    "       \n",
    "    return gdp_data[\n",
    "        (gdp_data.index > get_recession_start()) & \n",
    "        (gdp_data['negQtr'] == False) & \n",
    "        (gdp_data['seqQtr'])\n",
    "    ].iloc[1].name"
   ]
  },
  {
   "cell_type": "code",
   "execution_count": 7,
   "metadata": {
    "collapsed": true
   },
   "outputs": [],
   "source": [
    "def get_recession_bottom():\n",
    "    '''Returns the year and quarter of the recession bottom time as a \n",
    "    string value in a format such as 2005q3'''\n",
    "    return gdp_data[\"GDP in billions of chained 2009 dollars\"][\n",
    "        (gdp_data.index >= get_recession_start()) &\n",
    "        (gdp_data.index <= get_recession_end()) \n",
    "    ].argmin()"
   ]
  },
  {
   "cell_type": "code",
   "execution_count": 8,
   "metadata": {
    "collapsed": true
   },
   "outputs": [],
   "source": [
    "def convert_housing_data_to_quarters():\n",
    "    '''Converts the housing data to quarters and returns it as mean \n",
    "    values in a dataframe. This dataframe should be a dataframe with\n",
    "    columns for 2000q1 through 2016q3, and should have a multi-index\n",
    "    in the shape of [\"State\",\"RegionName\"].\n",
    "    \n",
    "    Note: Quarters are defined in the assignment description, they are\n",
    "    not arbitrary three month periods.\n",
    "    \n",
    "    The resulting dataframe should have 67 columns, and 10,730 rows.\n",
    "    '''\n",
    "    df = pd.read_csv(\"City_Zhvi_AllHomes.csv\")\n",
    "    \n",
    "    # Cut up the month data, summarize it by quarter, and give it column names in YYYYqQ format\n",
    "    month_data = df.drop([\"RegionID\", \"RegionName\", \"State\", \"Metro\", \"CountyName\", \"SizeRank\"], axis=1)\n",
    "    month_data = month_data.groupby(pd.PeriodIndex(month_data.columns, freq='q'), axis=1).mean()\n",
    "    month_data.columns = [\"{}q{}\".format(x.year, x.quarter) for x in month_data.columns]\n",
    "    \n",
    "    # We only want 2000q1 and later\n",
    "    month_data = month_data[[c for c in month_data.columns if c.startswith('2')]]\n",
    "    \n",
    "    # Add these so we can multi-index on them\n",
    "    month_data['State'] = df['State'].map(states)\n",
    "    month_data['RegionName'] = df['RegionName']\n",
    "    \n",
    "    return month_data.set_index(['State', 'RegionName'])"
   ]
  },
  {
   "cell_type": "code",
   "execution_count": 9,
   "metadata": {},
   "outputs": [],
   "source": [
    "def run_ttest():\n",
    "    '''First create new data showing the decline or growth of housing prices\n",
    "    between the recession start and the recession bottom. Then runs a ttest\n",
    "    comparing the university town values to the non-university towns values, \n",
    "    return whether the alternative hypothesis (that the two groups are the same)\n",
    "    is true or not as well as the p-value of the confidence. \n",
    "    \n",
    "    Return the tuple (different, p, better) where different=True if the t-test is\n",
    "    True at a p<0.01 (we reject the null hypothesis), or different=False if \n",
    "    otherwise (we cannot reject the null hypothesis). The variable p should\n",
    "    be equal to the exact p value returned from scipy.stats.ttest_ind(). The\n",
    "    value for better should be either \"university town\" or \"non-university town\"\n",
    "    depending on which has a lower mean price ratio (which is equivilent to a\n",
    "    reduced market loss).'''\n",
    "    \n",
    "    recession_start = get_recession_start()\n",
    "    recession_bottom = get_recession_bottom()\n",
    "    quarter_before_recession = gdp_data[gdp_data.index < recession_start].iloc[-1].name\n",
    "    \n",
    "    housing_data = convert_housing_data_to_quarters()\n",
    "    \n",
    "    housing_price_before = housing_data[quarter_before_recession]\n",
    "    housing_price_start = housing_data[recession_start]\n",
    "    housing_price_bottom = housing_data[recession_bottom]\n",
    "    \n",
    "    housing_price_diff = pd.DataFrame((housing_price_start - housing_price_bottom)).dropna()\n",
    "    housing_price_diff.columns = ['Price Diff']\n",
    "    \n",
    "    housing_price_ratio = pd.DataFrame((housing_price_before/housing_price_bottom).dropna())\n",
    "    housing_price_ratio.columns = ['Price Ratio']\n",
    "    \n",
    "    university_data = get_list_of_university_towns()\n",
    "    university_data['University Town'] = True\n",
    "    university_data.set_index(['State', 'RegionName'], inplace=True)\n",
    "    \n",
    "    merged_diff_data = pd.merge(housing_price_diff, university_data, how='left', left_index=True, right_index=True).fillna(False)\n",
    "    merged_ratio_data = pd.merge(housing_price_ratio, university_data, how='left', left_index=True, right_index=True).fillna(False)\n",
    "    \n",
    "    university_town_housing_diff = merged_diff_data[merged_diff_data['University Town']]['Price Diff'].reset_index(drop=True)\n",
    "    non_university_town_housing_diff = merged_diff_data[merged_diff_data['University Town'] == False]['Price Diff'].reset_index(drop=True)\n",
    "    \n",
    "    university_town_housing_ratio = merged_ratio_data[merged_ratio_data['University Town']]['Price Ratio'].reset_index(drop=True)\n",
    "    non_university_town_housing_ratio = merged_ratio_data[merged_ratio_data['University Town'] == False]['Price Ratio'].reset_index(drop=True)\n",
    "    \n",
    "    (statistic, pvalue) = ttest_ind(university_town_housing_diff, non_university_town_housing_diff)\n",
    "\n",
    "    different = (pvalue < 0.01)\n",
    "    u_housing_mean = university_town_housing_ratio.mean()\n",
    "    nu_housing_mean = non_university_town_housing_ratio.mean()\n",
    "    \n",
    "    return (different, pvalue, \"university town\" if u_housing_mean < nu_housing_mean else \"non-university town\")"
   ]
  },
  {
   "cell_type": "code",
   "execution_count": null,
   "metadata": {
    "collapsed": true
   },
   "outputs": [],
   "source": []
  }
 ],
 "metadata": {
  "coursera": {
   "course_slug": "python-data-analysis",
   "graded_item_id": "Il9Fx",
   "launcher_item_id": "TeDW0",
   "part_id": "WGlun"
  },
  "kernelspec": {
   "display_name": "Python 3",
   "language": "python",
   "name": "python3"
  },
  "language_info": {
   "codemirror_mode": {
    "name": "ipython",
    "version": 3
   },
   "file_extension": ".py",
   "mimetype": "text/x-python",
   "name": "python",
   "nbconvert_exporter": "python",
   "pygments_lexer": "ipython3",
   "version": "3.6.0"
  }
 },
 "nbformat": 4,
 "nbformat_minor": 1
}
